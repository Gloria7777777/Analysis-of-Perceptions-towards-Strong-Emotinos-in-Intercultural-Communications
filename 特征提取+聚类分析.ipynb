{
 "cells": [
  {
   "cell_type": "code",
   "execution_count": 1,
   "metadata": {},
   "outputs": [],
   "source": [
    "import os\n",
    "import librosa\n",
    "import librosa.display\n",
    "from librosa import feature\n",
    "\n",
    "import numpy as np\n",
    "from numpy import *\n",
    "from numpy import vstack,array\n",
    "import math\n",
    "import matplotlib.pyplot as plt\n",
    "%matplotlib inline\n",
    "import numpy as np\n",
    "from sklearn.cluster import KMeans\n",
    "from scipy.spatial.distance import cdist\n",
    "import seaborn as sns\n",
    "import pandas as pd\n",
    "import scipy\n",
    "import scipy.cluster.hierarchy as sch\n",
    "from pandas import plotting\n",
    "from scipy.cluster.vq import vq,kmeans,whiten"
   ]
  },
  {
   "cell_type": "code",
   "execution_count": 7,
   "metadata": {},
   "outputs": [],
   "source": [
    "wavefiledir = \"./NewData/\"\n",
    "wavenamelist = os.listdir(wavefiledir)"
   ]
  },
  {
   "cell_type": "code",
   "execution_count": 3,
   "metadata": {},
   "outputs": [
    {
     "data": {
      "text/plain": [
       "'BsurpriseC05.WAV'"
      ]
     },
     "execution_count": 3,
     "metadata": {},
     "output_type": "execute_result"
    }
   ],
   "source": [
    "wavenamelist[34]#[0:-4]"
   ]
  },
  {
   "cell_type": "code",
   "execution_count": 4,
   "metadata": {},
   "outputs": [
    {
     "name": "stdout",
     "output_type": "stream",
     "text": [
      "(230, 5)\n"
     ]
    },
    {
     "data": {
      "text/html": [
       "<div>\n",
       "<style scoped>\n",
       "    .dataframe tbody tr th:only-of-type {\n",
       "        vertical-align: middle;\n",
       "    }\n",
       "\n",
       "    .dataframe tbody tr th {\n",
       "        vertical-align: top;\n",
       "    }\n",
       "\n",
       "    .dataframe thead th {\n",
       "        text-align: right;\n",
       "    }\n",
       "</style>\n",
       "<table border=\"1\" class=\"dataframe\">\n",
       "  <thead>\n",
       "    <tr style=\"text-align: right;\">\n",
       "      <th></th>\n",
       "      <th>filename</th>\n",
       "      <th>speakerID</th>\n",
       "      <th>emotion</th>\n",
       "      <th>language</th>\n",
       "      <th>grade</th>\n",
       "    </tr>\n",
       "  </thead>\n",
       "  <tbody>\n",
       "    <tr>\n",
       "      <th>0</th>\n",
       "      <td>LsurpriseE03</td>\n",
       "      <td>L</td>\n",
       "      <td>surprise</td>\n",
       "      <td>E</td>\n",
       "      <td>3</td>\n",
       "    </tr>\n",
       "    <tr>\n",
       "      <th>1</th>\n",
       "      <td>LsurpriseC05</td>\n",
       "      <td>L</td>\n",
       "      <td>surprise</td>\n",
       "      <td>C</td>\n",
       "      <td>5</td>\n",
       "    </tr>\n",
       "    <tr>\n",
       "      <th>2</th>\n",
       "      <td>AangerC05</td>\n",
       "      <td>A</td>\n",
       "      <td>anger</td>\n",
       "      <td>C</td>\n",
       "      <td>5</td>\n",
       "    </tr>\n",
       "    <tr>\n",
       "      <th>3</th>\n",
       "      <td>PfearJ04</td>\n",
       "      <td>P</td>\n",
       "      <td>fear</td>\n",
       "      <td>J</td>\n",
       "      <td>4</td>\n",
       "    </tr>\n",
       "    <tr>\n",
       "      <th>4</th>\n",
       "      <td>LangerJ04</td>\n",
       "      <td>L</td>\n",
       "      <td>anger</td>\n",
       "      <td>J</td>\n",
       "      <td>4</td>\n",
       "    </tr>\n",
       "  </tbody>\n",
       "</table>\n",
       "</div>"
      ],
      "text/plain": [
       "       filename speakerID   emotion language  grade\n",
       "0  LsurpriseE03         L  surprise        E      3\n",
       "1  LsurpriseC05         L  surprise        C      5\n",
       "2     AangerC05         A     anger        C      5\n",
       "3      PfearJ04         P      fear        J      4\n",
       "4     LangerJ04         L     anger        J      4"
      ]
     },
     "execution_count": 4,
     "metadata": {},
     "output_type": "execute_result"
    }
   ],
   "source": [
    "data = pd.read_csv('wave1.csv',header=0,names = ['filename','speakerID','emotion','language','grade'])\n",
    "print(data.shape)\n",
    "data.head()"
   ]
  },
  {
   "cell_type": "code",
   "execution_count": 5,
   "metadata": {},
   "outputs": [],
   "source": [
    "def get_mfcc(filename):\n",
    "    y, sr = librosa.load(wavefiledir+filename+'.WAV',sr=None)\n",
    "    get_feature = librosa.feature.mfcc(librosa.power_to_db(y))\n",
    "    return get_feature"
   ]
  },
  {
   "cell_type": "code",
   "execution_count": 6,
   "metadata": {},
   "outputs": [],
   "source": [
    "data['MFCC']=data.filename.apply(lambda x:get_mfcc(x))"
   ]
  },
  {
   "cell_type": "code",
   "execution_count": 8,
   "metadata": {
    "scrolled": true
   },
   "outputs": [
    {
     "name": "stdout",
     "output_type": "stream",
     "text": [
      "(230,)\n",
      "(230,)\n",
      "(230,)\n",
      "(230,)\n",
      "(230,)\n",
      "(230,)\n"
     ]
    }
   ],
   "source": [
    "for item in data[30:35]:\n",
    "    arr=data.MFCC\n",
    "    print(arr.shape)"
   ]
  },
  {
   "cell_type": "code",
   "execution_count": 9,
   "metadata": {},
   "outputs": [
    {
     "data": {
      "text/plain": [
       "(230, 78140)"
      ]
     },
     "execution_count": 9,
     "metadata": {},
     "output_type": "execute_result"
    }
   ],
   "source": [
    "mfcc = data['MFCC']\n",
    "res = []\n",
    "x = [mfcc[0].flatten()]\n",
    "for i in range(1, len(mfcc)):\n",
    "    y = mfcc[i].flatten()\n",
    "    x = np.append(x, [y], axis=0)\n",
    "\n",
    "x.shape"
   ]
  },
  {
   "cell_type": "code",
   "execution_count": 10,
   "metadata": {},
   "outputs": [
    {
     "data": {
      "text/html": [
       "<div>\n",
       "<style scoped>\n",
       "    .dataframe tbody tr th:only-of-type {\n",
       "        vertical-align: middle;\n",
       "    }\n",
       "\n",
       "    .dataframe tbody tr th {\n",
       "        vertical-align: top;\n",
       "    }\n",
       "\n",
       "    .dataframe thead th {\n",
       "        text-align: right;\n",
       "    }\n",
       "</style>\n",
       "<table border=\"1\" class=\"dataframe\">\n",
       "  <thead>\n",
       "    <tr style=\"text-align: right;\">\n",
       "      <th></th>\n",
       "      <th>filename</th>\n",
       "      <th>speakerID</th>\n",
       "      <th>emotion</th>\n",
       "      <th>language</th>\n",
       "      <th>grade</th>\n",
       "      <th>MFCC</th>\n",
       "    </tr>\n",
       "  </thead>\n",
       "  <tbody>\n",
       "    <tr>\n",
       "      <th>0</th>\n",
       "      <td>LsurpriseE03</td>\n",
       "      <td>L</td>\n",
       "      <td>surprise</td>\n",
       "      <td>E</td>\n",
       "      <td>3</td>\n",
       "      <td>[513.1813354492188, 517.314208984375, 517.4269...</td>\n",
       "    </tr>\n",
       "    <tr>\n",
       "      <th>1</th>\n",
       "      <td>LsurpriseC05</td>\n",
       "      <td>L</td>\n",
       "      <td>surprise</td>\n",
       "      <td>C</td>\n",
       "      <td>5</td>\n",
       "      <td>[-54.19148635864258, -54.19148635864258, -54.1...</td>\n",
       "    </tr>\n",
       "    <tr>\n",
       "      <th>2</th>\n",
       "      <td>AangerC05</td>\n",
       "      <td>A</td>\n",
       "      <td>anger</td>\n",
       "      <td>C</td>\n",
       "      <td>5</td>\n",
       "      <td>[-52.68820571899414, -52.68820571899414, -52.6...</td>\n",
       "    </tr>\n",
       "    <tr>\n",
       "      <th>3</th>\n",
       "      <td>PfearJ04</td>\n",
       "      <td>P</td>\n",
       "      <td>fear</td>\n",
       "      <td>J</td>\n",
       "      <td>4</td>\n",
       "      <td>[509.6606750488281, 517.299072265625, 521.8084...</td>\n",
       "    </tr>\n",
       "    <tr>\n",
       "      <th>4</th>\n",
       "      <td>LangerJ04</td>\n",
       "      <td>L</td>\n",
       "      <td>anger</td>\n",
       "      <td>J</td>\n",
       "      <td>4</td>\n",
       "      <td>[-53.33030319213867, -53.33030319213867, -53.3...</td>\n",
       "    </tr>\n",
       "  </tbody>\n",
       "</table>\n",
       "</div>"
      ],
      "text/plain": [
       "       filename speakerID   emotion language  grade  \\\n",
       "0  LsurpriseE03         L  surprise        E      3   \n",
       "1  LsurpriseC05         L  surprise        C      5   \n",
       "2     AangerC05         A     anger        C      5   \n",
       "3      PfearJ04         P      fear        J      4   \n",
       "4     LangerJ04         L     anger        J      4   \n",
       "\n",
       "                                                MFCC  \n",
       "0  [513.1813354492188, 517.314208984375, 517.4269...  \n",
       "1  [-54.19148635864258, -54.19148635864258, -54.1...  \n",
       "2  [-52.68820571899414, -52.68820571899414, -52.6...  \n",
       "3  [509.6606750488281, 517.299072265625, 521.8084...  \n",
       "4  [-53.33030319213867, -53.33030319213867, -53.3...  "
      ]
     },
     "execution_count": 10,
     "metadata": {},
     "output_type": "execute_result"
    }
   ],
   "source": [
    "data['MFCC'] = x.tolist()\n",
    "data.head()"
   ]
  },
  {
   "cell_type": "code",
   "execution_count": 11,
   "metadata": {},
   "outputs": [
    {
     "data": {
      "text/plain": [
       "0      [513.1813354492188, 517.314208984375, 517.4269...\n",
       "1      [-54.19148635864258, -54.19148635864258, -54.1...\n",
       "2      [-52.68820571899414, -52.68820571899414, -52.6...\n",
       "3      [509.6606750488281, 517.299072265625, 521.8084...\n",
       "4      [-53.33030319213867, -53.33030319213867, -53.3...\n",
       "                             ...                        \n",
       "225    [-51.64280700683594, -51.64280700683594, -51.6...\n",
       "226    [517.0995483398438, 518.1492309570312, 519.497...\n",
       "227    [-52.97903823852539, -52.97903823852539, -52.9...\n",
       "228    [510.7218933105469, 518.8019409179688, 500.889...\n",
       "229    [-53.698909759521484, -53.698909759521484, -53...\n",
       "Name: MFCC, Length: 230, dtype: object"
      ]
     },
     "execution_count": 11,
     "metadata": {},
     "output_type": "execute_result"
    }
   ],
   "source": [
    "data['MFCC']"
   ]
  },
  {
   "cell_type": "code",
   "execution_count": 32,
   "metadata": {},
   "outputs": [
    {
     "data": {
      "image/png": "[encoded data removed]",
      "text/plain": [
       "<Figure size 432x288 with 1 Axes>"
      ]
     },
     "metadata": {
      "needs_background": "light"
     },
     "output_type": "display_data"
    }
   ],
   "source": [
    "X=x\n",
    "K = range(1, 10)\n",
    "mean_distortions = []\n",
    "for k in K:\n",
    "    kmeans = KMeans(n_clusters=k)\n",
    "    kmeans.fit(X)\n",
    "    mean_distortions.append(sum(np.min(cdist(X, kmeans.cluster_centers_, metric='euclidean'), axis=1))/ X.shape[0])\n",
    "plt.plot(K, mean_distortions, 'bx-')\n",
    "plt.xlabel('k')\n",
    "#font = FontProperties(fname=r'c:\\windows\\fonts\\msyh.ttc', size=20)\n",
    "#plt.ylabel(u'平均畸变程度', fontproperties=font)\n",
    "#plt.title(u'用肘部法确定最佳的K值', fontproperties=font)\n",
    "plt.show()"
   ]
  },
  {
   "cell_type": "code",
   "execution_count": 33,
   "metadata": {},
   "outputs": [],
   "source": [
    "def getXY(dataSet):\n",
    "    import numpy as np\n",
    "    m = 230  # 数据集的行\n",
    "    X = []\n",
    "    Y = []\n",
    "    for i in range(0,3):\n",
    "        X.append(dataSet[i,0])\n",
    "        Y.append(dataSet[i,1])\n",
    "    return np.array(X), np.array(Y)"
   ]
  },
  {
   "cell_type": "code",
   "execution_count": 34,
   "metadata": {},
   "outputs": [],
   "source": [
    "from sklearn.cluster import KMeans\n",
    "X=x\n",
    "k = 4\n",
    "mean_distortions = []\n",
    "kmeans = KMeans(n_clusters=k, random_state=10).fit(X)\n",
    "labels = kmeans.labels_"
   ]
  },
  {
   "cell_type": "code",
   "execution_count": null,
   "metadata": {},
   "outputs": [],
   "source": [
    "estimator = KMeans(n_clusters=4)#构造聚类器，构造一个聚类数为n 的聚类器\n",
    "estimator.fit(data)#聚类\n",
    "label_pred = estimator.labels_ #获取聚类标签\n",
    "centroids = estimator.cluster_centers_ #获取聚类中心\n",
    "inertia = estimator.inertia_ # 获取聚类准则的总和\n",
    "mark = ['or', 'ob', 'og', 'ok', '^r', '+r', 'sr', 'dr', '<r', 'pr']#这里'or'代表中的'o'代表画圈，'r'代表颜色为红色，后面的依次类推\n",
    "color = 0\n",
    "j = 0 \n",
    "for i in label_pred:\n",
    "    plt.plot([data[j:j+1,0]], [data[j:j+1,1]], mark[i], markersize = 5)\n",
    "    j +=1\n",
    "plt.show() "
   ]
  },
  {
   "cell_type": "code",
   "execution_count": 9,
   "metadata": {},
   "outputs": [],
   "source": [
    "#color_codes = {0:'#00FF00', 1:'#FF0000', 2:'#0000FF', 3:'#00FFFF'}"
   ]
  },
  {
   "cell_type": "code",
   "execution_count": 10,
   "metadata": {},
   "outputs": [],
   "source": [
    "#colors = [color_codes[n] for n in labels]"
   ]
  },
  {
   "cell_type": "code",
   "execution_count": 35,
   "metadata": {},
   "outputs": [],
   "source": [
    "data['labels'] = labels"
   ]
  },
  {
   "cell_type": "code",
   "execution_count": 36,
   "metadata": {},
   "outputs": [
    {
     "data": {
      "text/html": [
       "<div>\n",
       "<style scoped>\n",
       "    .dataframe tbody tr th:only-of-type {\n",
       "        vertical-align: middle;\n",
       "    }\n",
       "\n",
       "    .dataframe tbody tr th {\n",
       "        vertical-align: top;\n",
       "    }\n",
       "\n",
       "    .dataframe thead th {\n",
       "        text-align: right;\n",
       "    }\n",
       "</style>\n",
       "<table border=\"1\" class=\"dataframe\">\n",
       "  <thead>\n",
       "    <tr style=\"text-align: right;\">\n",
       "      <th></th>\n",
       "      <th>filename</th>\n",
       "      <th>speakerID</th>\n",
       "      <th>emotion</th>\n",
       "      <th>language</th>\n",
       "      <th>grade</th>\n",
       "      <th>MFCC</th>\n",
       "      <th>labels</th>\n",
       "    </tr>\n",
       "  </thead>\n",
       "  <tbody>\n",
       "    <tr>\n",
       "      <th>0</th>\n",
       "      <td>LsurpriseE03</td>\n",
       "      <td>L</td>\n",
       "      <td>surprise</td>\n",
       "      <td>E</td>\n",
       "      <td>3</td>\n",
       "      <td>[513.1813354492188, 517.314208984375, 517.4269...</td>\n",
       "      <td>1</td>\n",
       "    </tr>\n",
       "    <tr>\n",
       "      <th>1</th>\n",
       "      <td>LsurpriseC05</td>\n",
       "      <td>L</td>\n",
       "      <td>surprise</td>\n",
       "      <td>C</td>\n",
       "      <td>5</td>\n",
       "      <td>[-54.19148635864258, -54.19148635864258, -54.1...</td>\n",
       "      <td>3</td>\n",
       "    </tr>\n",
       "    <tr>\n",
       "      <th>2</th>\n",
       "      <td>AangerC05</td>\n",
       "      <td>A</td>\n",
       "      <td>anger</td>\n",
       "      <td>C</td>\n",
       "      <td>5</td>\n",
       "      <td>[-52.68820571899414, -52.68820571899414, -52.6...</td>\n",
       "      <td>0</td>\n",
       "    </tr>\n",
       "    <tr>\n",
       "      <th>3</th>\n",
       "      <td>PfearJ04</td>\n",
       "      <td>P</td>\n",
       "      <td>fear</td>\n",
       "      <td>J</td>\n",
       "      <td>4</td>\n",
       "      <td>[509.6606750488281, 517.299072265625, 521.8084...</td>\n",
       "      <td>0</td>\n",
       "    </tr>\n",
       "    <tr>\n",
       "      <th>4</th>\n",
       "      <td>LangerJ04</td>\n",
       "      <td>L</td>\n",
       "      <td>anger</td>\n",
       "      <td>J</td>\n",
       "      <td>4</td>\n",
       "      <td>[-53.33030319213867, -53.33030319213867, -53.3...</td>\n",
       "      <td>1</td>\n",
       "    </tr>\n",
       "  </tbody>\n",
       "</table>\n",
       "</div>"
      ],
      "text/plain": [
       "       filename speakerID   emotion language  grade  \\\n",
       "0  LsurpriseE03         L  surprise        E      3   \n",
       "1  LsurpriseC05         L  surprise        C      5   \n",
       "2     AangerC05         A     anger        C      5   \n",
       "3      PfearJ04         P      fear        J      4   \n",
       "4     LangerJ04         L     anger        J      4   \n",
       "\n",
       "                                                MFCC  labels  \n",
       "0  [513.1813354492188, 517.314208984375, 517.4269...       1  \n",
       "1  [-54.19148635864258, -54.19148635864258, -54.1...       3  \n",
       "2  [-52.68820571899414, -52.68820571899414, -52.6...       0  \n",
       "3  [509.6606750488281, 517.299072265625, 521.8084...       0  \n",
       "4  [-53.33030319213867, -53.33030319213867, -53.3...       1  "
      ]
     },
     "execution_count": 36,
     "metadata": {},
     "output_type": "execute_result"
    }
   ],
   "source": [
    "data.head()"
   ]
  },
  {
   "cell_type": "code",
   "execution_count": 37,
   "metadata": {},
   "outputs": [],
   "source": [
    "keep_columns = ['filename', 'speakerID', 'emotion', 'language', 'grade','labels']"
   ]
  },
  {
   "cell_type": "code",
   "execution_count": 38,
   "metadata": {},
   "outputs": [],
   "source": [
    "label = data[keep_columns]"
   ]
  },
  {
   "cell_type": "code",
   "execution_count": 39,
   "metadata": {},
   "outputs": [
    {
     "data": {
      "text/html": [
       "<div>\n",
       "<style scoped>\n",
       "    .dataframe tbody tr th:only-of-type {\n",
       "        vertical-align: middle;\n",
       "    }\n",
       "\n",
       "    .dataframe tbody tr th {\n",
       "        vertical-align: top;\n",
       "    }\n",
       "\n",
       "    .dataframe thead th {\n",
       "        text-align: right;\n",
       "    }\n",
       "</style>\n",
       "<table border=\"1\" class=\"dataframe\">\n",
       "  <thead>\n",
       "    <tr style=\"text-align: right;\">\n",
       "      <th></th>\n",
       "      <th>filename</th>\n",
       "      <th>speakerID</th>\n",
       "      <th>emotion</th>\n",
       "      <th>language</th>\n",
       "      <th>grade</th>\n",
       "      <th>labels</th>\n",
       "    </tr>\n",
       "  </thead>\n",
       "  <tbody>\n",
       "    <tr>\n",
       "      <th>0</th>\n",
       "      <td>LsurpriseE03</td>\n",
       "      <td>L</td>\n",
       "      <td>surprise</td>\n",
       "      <td>E</td>\n",
       "      <td>3</td>\n",
       "      <td>1</td>\n",
       "    </tr>\n",
       "    <tr>\n",
       "      <th>1</th>\n",
       "      <td>LsurpriseC05</td>\n",
       "      <td>L</td>\n",
       "      <td>surprise</td>\n",
       "      <td>C</td>\n",
       "      <td>5</td>\n",
       "      <td>3</td>\n",
       "    </tr>\n",
       "    <tr>\n",
       "      <th>2</th>\n",
       "      <td>AangerC05</td>\n",
       "      <td>A</td>\n",
       "      <td>anger</td>\n",
       "      <td>C</td>\n",
       "      <td>5</td>\n",
       "      <td>0</td>\n",
       "    </tr>\n",
       "    <tr>\n",
       "      <th>3</th>\n",
       "      <td>PfearJ04</td>\n",
       "      <td>P</td>\n",
       "      <td>fear</td>\n",
       "      <td>J</td>\n",
       "      <td>4</td>\n",
       "      <td>0</td>\n",
       "    </tr>\n",
       "    <tr>\n",
       "      <th>4</th>\n",
       "      <td>LangerJ04</td>\n",
       "      <td>L</td>\n",
       "      <td>anger</td>\n",
       "      <td>J</td>\n",
       "      <td>4</td>\n",
       "      <td>1</td>\n",
       "    </tr>\n",
       "  </tbody>\n",
       "</table>\n",
       "</div>"
      ],
      "text/plain": [
       "       filename speakerID   emotion language  grade  labels\n",
       "0  LsurpriseE03         L  surprise        E      3       1\n",
       "1  LsurpriseC05         L  surprise        C      5       3\n",
       "2     AangerC05         A     anger        C      5       0\n",
       "3      PfearJ04         P      fear        J      4       0\n",
       "4     LangerJ04         L     anger        J      4       1"
      ]
     },
     "execution_count": 39,
     "metadata": {},
     "output_type": "execute_result"
    }
   ],
   "source": [
    "label.head()"
   ]
  },
  {
   "cell_type": "code",
   "execution_count": 40,
   "metadata": {},
   "outputs": [],
   "source": [
    "label.to_csv('label_4.csv',index=False)"
   ]
  },
  {
   "cell_type": "code",
   "execution_count": null,
   "metadata": {},
   "outputs": [],
   "source": []
  }
 ],
 "metadata": {
  "kernelspec": {
   "display_name": "Python 3",
   "language": "python",
   "name": "python3"
  },
  "language_info": {
   "codemirror_mode": {
    "name": "ipython",
    "version": 3
   },
   "file_extension": ".py",
   "mimetype": "text/x-python",
   "name": "python",
   "nbconvert_exporter": "python",
   "pygments_lexer": "ipython3",
   "version": "3.7.6"
  }
 },
 "nbformat": 4,
 "nbformat_minor": 2
}
