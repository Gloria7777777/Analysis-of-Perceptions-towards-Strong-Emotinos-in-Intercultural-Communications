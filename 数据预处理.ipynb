{
 "cells": [
  {
   "cell_type": "code",
   "execution_count": 1,
   "metadata": {},
   "outputs": [
    {
     "ename": "ModuleNotFoundError",
     "evalue": "No module named 'pydub'",
     "output_type": "error",
     "traceback": [
      "\u001b[0;31m---------------------------------------------------------------------------\u001b[0m",
      "\u001b[0;31mModuleNotFoundError\u001b[0m                       Traceback (most recent call last)",
      "\u001b[0;32m<ipython-input-1-8424d1c14c42>\u001b[0m in \u001b[0;36m<module>\u001b[0;34m\u001b[0m\n\u001b[1;32m     10\u001b[0m \u001b[0;32mfrom\u001b[0m \u001b[0mpandas\u001b[0m \u001b[0;32mimport\u001b[0m \u001b[0mSeries\u001b[0m\u001b[0;34m,\u001b[0m\u001b[0mDataFrame\u001b[0m\u001b[0;34m\u001b[0m\u001b[0;34m\u001b[0m\u001b[0m\n\u001b[1;32m     11\u001b[0m \u001b[0;32mimport\u001b[0m \u001b[0mstruct\u001b[0m\u001b[0;34m\u001b[0m\u001b[0;34m\u001b[0m\u001b[0m\n\u001b[0;32m---> 12\u001b[0;31m \u001b[0;32mfrom\u001b[0m \u001b[0mpydub\u001b[0m \u001b[0;32mimport\u001b[0m \u001b[0mAudioSegment\u001b[0m\u001b[0;34m\u001b[0m\u001b[0;34m\u001b[0m\u001b[0m\n\u001b[0m\u001b[1;32m     13\u001b[0m \u001b[0;32mimport\u001b[0m \u001b[0mscipy\u001b[0m\u001b[0;34m.\u001b[0m\u001b[0msignal\u001b[0m \u001b[0;32mas\u001b[0m \u001b[0msignal\u001b[0m\u001b[0;34m\u001b[0m\u001b[0;34m\u001b[0m\u001b[0m\n\u001b[1;32m     14\u001b[0m \u001b[0;34m\u001b[0m\u001b[0m\n",
      "\u001b[0;31mModuleNotFoundError\u001b[0m: No module named 'pydub'"
     ]
    }
   ],
   "source": [
    "import wave\n",
    "import matplotlib.pyplot as plt\n",
    "import os,pickle\n",
    "import numpy as np\n",
    "import scipy.io.wavfile\n",
    "import csv\n",
    "import pandas as pd\n",
    "from scipy.io import wavfile\n",
    "import contextlib\n",
    "from pandas import Series,DataFrame\n",
    "import struct\n",
    "from pydub import AudioSegment\n",
    "import scipy.signal as signal\n",
    "\n",
    "from sklearn.cluster import MiniBatchKMeans, KMeans\n",
    "from sklearn.metrics.pairwise import pairwise_distances_argmin\n",
    "from sklearn.datasets.samples_generator import make_blobs"
   ]
  },
  {
   "cell_type": "code",
   "execution_count": 11,
   "metadata": {},
   "outputs": [],
   "source": [
    "wave_file_dir = \"./data/\"\n",
    "filelist = os.listdir(wave_file_dir)\n",
    "#print(filelist)"
   ]
  },
  {
   "cell_type": "code",
   "execution_count": 12,
   "metadata": {},
   "outputs": [
    {
     "name": "stdout",
     "output_type": "stream",
     "text": [
      "232\n"
     ]
    }
   ],
   "source": [
    "print(len(filelist))"
   ]
  },
  {
   "cell_type": "code",
   "execution_count": 13,
   "metadata": {},
   "outputs": [],
   "source": [
    "for name in filelist:\n",
    "    if '.WAV' in name:\n",
    "        filename = str(name[:-4])\n",
    "        speakerID = str(filename[0:1])\n",
    "        emotion = str(filename[1:-3])\n",
    "        language = str(filename[-3:-2])\n",
    "        grade = str(filename[-2:])\n",
    "        with open('wave1.csv',mode='a',encoding ='utf-8') as f:\n",
    "            f.write(filename+','+speakerID+','+emotion+','+language+','+grade+'\\n')"
   ]
  },
  {
   "cell_type": "code",
   "execution_count": 14,
   "metadata": {},
   "outputs": [
    {
     "data": {
      "text/html": [
       "<div>\n",
       "<style scoped>\n",
       "    .dataframe tbody tr th:only-of-type {\n",
       "        vertical-align: middle;\n",
       "    }\n",
       "\n",
       "    .dataframe tbody tr th {\n",
       "        vertical-align: top;\n",
       "    }\n",
       "\n",
       "    .dataframe thead th {\n",
       "        text-align: right;\n",
       "    }\n",
       "</style>\n",
       "<table border=\"1\" class=\"dataframe\">\n",
       "  <thead>\n",
       "    <tr style=\"text-align: right;\">\n",
       "      <th></th>\n",
       "      <th>filename</th>\n",
       "      <th>speakerID</th>\n",
       "      <th>emotion</th>\n",
       "      <th>language</th>\n",
       "      <th>grade</th>\n",
       "    </tr>\n",
       "  </thead>\n",
       "  <tbody>\n",
       "    <tr>\n",
       "      <td>0</td>\n",
       "      <td>LsurpriseE03</td>\n",
       "      <td>L</td>\n",
       "      <td>surprise</td>\n",
       "      <td>E</td>\n",
       "      <td>3</td>\n",
       "    </tr>\n",
       "    <tr>\n",
       "      <td>1</td>\n",
       "      <td>LsurpriseC05</td>\n",
       "      <td>L</td>\n",
       "      <td>surprise</td>\n",
       "      <td>C</td>\n",
       "      <td>5</td>\n",
       "    </tr>\n",
       "    <tr>\n",
       "      <td>2</td>\n",
       "      <td>AangerC05</td>\n",
       "      <td>A</td>\n",
       "      <td>anger</td>\n",
       "      <td>C</td>\n",
       "      <td>5</td>\n",
       "    </tr>\n",
       "    <tr>\n",
       "      <td>3</td>\n",
       "      <td>PfearJ04</td>\n",
       "      <td>P</td>\n",
       "      <td>fear</td>\n",
       "      <td>J</td>\n",
       "      <td>4</td>\n",
       "    </tr>\n",
       "    <tr>\n",
       "      <td>4</td>\n",
       "      <td>LangerJ04</td>\n",
       "      <td>L</td>\n",
       "      <td>anger</td>\n",
       "      <td>J</td>\n",
       "      <td>4</td>\n",
       "    </tr>\n",
       "    <tr>\n",
       "      <td>...</td>\n",
       "      <td>...</td>\n",
       "      <td>...</td>\n",
       "      <td>...</td>\n",
       "      <td>...</td>\n",
       "      <td>...</td>\n",
       "    </tr>\n",
       "    <tr>\n",
       "      <td>225</td>\n",
       "      <td>FangerC05</td>\n",
       "      <td>F</td>\n",
       "      <td>anger</td>\n",
       "      <td>C</td>\n",
       "      <td>5</td>\n",
       "    </tr>\n",
       "    <tr>\n",
       "      <td>226</td>\n",
       "      <td>KdisgustE01</td>\n",
       "      <td>K</td>\n",
       "      <td>disgust</td>\n",
       "      <td>E</td>\n",
       "      <td>1</td>\n",
       "    </tr>\n",
       "    <tr>\n",
       "      <td>227</td>\n",
       "      <td>PsurpriseC05</td>\n",
       "      <td>P</td>\n",
       "      <td>surprise</td>\n",
       "      <td>C</td>\n",
       "      <td>5</td>\n",
       "    </tr>\n",
       "    <tr>\n",
       "      <td>228</td>\n",
       "      <td>DfearC05</td>\n",
       "      <td>D</td>\n",
       "      <td>fear</td>\n",
       "      <td>C</td>\n",
       "      <td>5</td>\n",
       "    </tr>\n",
       "    <tr>\n",
       "      <td>229</td>\n",
       "      <td>PsurpriseE03</td>\n",
       "      <td>P</td>\n",
       "      <td>surprise</td>\n",
       "      <td>E</td>\n",
       "      <td>3</td>\n",
       "    </tr>\n",
       "  </tbody>\n",
       "</table>\n",
       "<p>230 rows × 5 columns</p>\n",
       "</div>"
      ],
      "text/plain": [
       "         filename speakerID   emotion language  grade\n",
       "0    LsurpriseE03         L  surprise        E      3\n",
       "1    LsurpriseC05         L  surprise        C      5\n",
       "2       AangerC05         A     anger        C      5\n",
       "3        PfearJ04         P      fear        J      4\n",
       "4       LangerJ04         L     anger        J      4\n",
       "..            ...       ...       ...      ...    ...\n",
       "225     FangerC05         F     anger        C      5\n",
       "226   KdisgustE01         K   disgust        E      1\n",
       "227  PsurpriseC05         P  surprise        C      5\n",
       "228      DfearC05         D      fear        C      5\n",
       "229  PsurpriseE03         P  surprise        E      3\n",
       "\n",
       "[230 rows x 5 columns]"
      ]
     },
     "execution_count": 14,
     "metadata": {},
     "output_type": "execute_result"
    }
   ],
   "source": [
    "wave1=pd.read_csv('wave1.csv',header=0, names = ['filename','speakerID','emotion','language','grade'])\n",
    "wave1.head(231)"
   ]
  },
  {
   "cell_type": "code",
   "execution_count": 15,
   "metadata": {},
   "outputs": [],
   "source": [
    "def get_seconds(filename):\n",
    "    fname = wave_file_dir + filename +'.WAV'\n",
    "    sound = AudioSegment.from_wav(fname)\n",
    "    seconds = sound.duration_seconds\n",
    "    seconds = float('%.3f' % seconds)\n",
    "    seconds = seconds*1000 #换算成毫秒\n",
    "    return seconds"
   ]
  },
  {
   "cell_type": "code",
   "execution_count": 16,
   "metadata": {},
   "outputs": [],
   "source": [
    "wave1['seconds']=wave1.filename.apply(lambda x:get_seconds(x))"
   ]
  },
  {
   "cell_type": "code",
   "execution_count": 17,
   "metadata": {},
   "outputs": [
    {
     "data": {
      "text/plain": [
       "filename     230\n",
       "speakerID    230\n",
       "emotion      230\n",
       "language     230\n",
       "grade        230\n",
       "seconds      230\n",
       "dtype: int64"
      ]
     },
     "execution_count": 17,
     "metadata": {},
     "output_type": "execute_result"
    }
   ],
   "source": [
    "wave1.count()"
   ]
  },
  {
   "cell_type": "code",
   "execution_count": 18,
   "metadata": {},
   "outputs": [
    {
     "data": {
      "text/html": [
       "<div>\n",
       "<style scoped>\n",
       "    .dataframe tbody tr th:only-of-type {\n",
       "        vertical-align: middle;\n",
       "    }\n",
       "\n",
       "    .dataframe tbody tr th {\n",
       "        vertical-align: top;\n",
       "    }\n",
       "\n",
       "    .dataframe thead th {\n",
       "        text-align: right;\n",
       "    }\n",
       "</style>\n",
       "<table border=\"1\" class=\"dataframe\">\n",
       "  <thead>\n",
       "    <tr style=\"text-align: right;\">\n",
       "      <th></th>\n",
       "      <th>filename</th>\n",
       "      <th>speakerID</th>\n",
       "      <th>emotion</th>\n",
       "      <th>language</th>\n",
       "      <th>grade</th>\n",
       "      <th>seconds</th>\n",
       "    </tr>\n",
       "  </thead>\n",
       "  <tbody>\n",
       "    <tr>\n",
       "      <td>0</td>\n",
       "      <td>LsurpriseE03</td>\n",
       "      <td>L</td>\n",
       "      <td>surprise</td>\n",
       "      <td>E</td>\n",
       "      <td>3</td>\n",
       "      <td>27434.0</td>\n",
       "    </tr>\n",
       "    <tr>\n",
       "      <td>1</td>\n",
       "      <td>LsurpriseC05</td>\n",
       "      <td>L</td>\n",
       "      <td>surprise</td>\n",
       "      <td>C</td>\n",
       "      <td>5</td>\n",
       "      <td>14963.0</td>\n",
       "    </tr>\n",
       "    <tr>\n",
       "      <td>2</td>\n",
       "      <td>AangerC05</td>\n",
       "      <td>A</td>\n",
       "      <td>anger</td>\n",
       "      <td>C</td>\n",
       "      <td>5</td>\n",
       "      <td>1585.0</td>\n",
       "    </tr>\n",
       "    <tr>\n",
       "      <td>3</td>\n",
       "      <td>PfearJ04</td>\n",
       "      <td>P</td>\n",
       "      <td>fear</td>\n",
       "      <td>J</td>\n",
       "      <td>4</td>\n",
       "      <td>5915.0</td>\n",
       "    </tr>\n",
       "    <tr>\n",
       "      <td>4</td>\n",
       "      <td>LangerJ04</td>\n",
       "      <td>L</td>\n",
       "      <td>anger</td>\n",
       "      <td>J</td>\n",
       "      <td>4</td>\n",
       "      <td>25413.0</td>\n",
       "    </tr>\n",
       "  </tbody>\n",
       "</table>\n",
       "</div>"
      ],
      "text/plain": [
       "       filename speakerID   emotion language  grade  seconds\n",
       "0  LsurpriseE03         L  surprise        E      3  27434.0\n",
       "1  LsurpriseC05         L  surprise        C      5  14963.0\n",
       "2     AangerC05         A     anger        C      5   1585.0\n",
       "3      PfearJ04         P      fear        J      4   5915.0\n",
       "4     LangerJ04         L     anger        J      4  25413.0"
      ]
     },
     "execution_count": 18,
     "metadata": {},
     "output_type": "execute_result"
    }
   ],
   "source": [
    "wave1.head()"
   ]
  },
  {
   "cell_type": "code",
   "execution_count": 19,
   "metadata": {},
   "outputs": [
    {
     "data": {
      "text/plain": [
       "<matplotlib.axes._subplots.AxesSubplot at 0x1c1ce3cf90>"
      ]
     },
     "execution_count": 19,
     "metadata": {},
     "output_type": "execute_result"
    },
    {
     "data": {
      "image/png": "[encoded data removed]",
      "text/plain": [
       "<Figure size 432x288 with 1 Axes>"
      ]
     },
     "metadata": {
      "needs_background": "light"
     },
     "output_type": "display_data"
    }
   ],
   "source": [
    "wave1.seconds.plot(kind=\"box\")"
   ]
  },
  {
   "cell_type": "code",
   "execution_count": 20,
   "metadata": {},
   "outputs": [
    {
     "data": {
      "text/html": [
       "<div>\n",
       "<style scoped>\n",
       "    .dataframe tbody tr th:only-of-type {\n",
       "        vertical-align: middle;\n",
       "    }\n",
       "\n",
       "    .dataframe tbody tr th {\n",
       "        vertical-align: top;\n",
       "    }\n",
       "\n",
       "    .dataframe thead th {\n",
       "        text-align: right;\n",
       "    }\n",
       "</style>\n",
       "<table border=\"1\" class=\"dataframe\">\n",
       "  <thead>\n",
       "    <tr style=\"text-align: right;\">\n",
       "      <th></th>\n",
       "      <th>filename</th>\n",
       "      <th>speakerID</th>\n",
       "      <th>emotion</th>\n",
       "      <th>language</th>\n",
       "      <th>grade</th>\n",
       "      <th>seconds</th>\n",
       "    </tr>\n",
       "  </thead>\n",
       "  <tbody>\n",
       "  </tbody>\n",
       "</table>\n",
       "</div>"
      ],
      "text/plain": [
       "Empty DataFrame\n",
       "Columns: [filename, speakerID, emotion, language, grade, seconds]\n",
       "Index: []"
      ]
     },
     "execution_count": 20,
     "metadata": {},
     "output_type": "execute_result"
    }
   ],
   "source": [
    "expection=wave1[wave1.seconds>40000]# 补为40000ms\n",
    "expection.head()"
   ]
  },
  {
   "cell_type": "code",
   "execution_count": 22,
   "metadata": {
    "scrolled": true
   },
   "outputs": [
    {
     "name": "stderr",
     "output_type": "stream",
     "text": [
      "/opt/anaconda3/lib/python3.7/site-packages/ipykernel_launcher.py:14: DeprecationWarning: The binary mode of fromstring is deprecated, as it behaves surprisingly on unicode inputs. Use frombuffer instead\n",
      "  \n"
     ]
    }
   ],
   "source": [
    "framerate = 44100\n",
    "time = 4000000/44100\n",
    "t = np.arange(0,time, 1.0/framerate)\n",
    "wave_data = signal.chirp(t,100,time,1000,method='linear')*10000\n",
    "wave_data = wave_data.astype(np.short)\n",
    "for wavname in filelist:\n",
    "    if \".WAV\" in wavname:\n",
    "        filelist = os.listdir(wave_file_dir)\n",
    "        sine=wavname\n",
    "        wav_path = wave_file_dir + wavname\n",
    "        with wave.open(wav_path,mode=\"rb\") as wav_data:\n",
    "            nframes = wav_data.getparams()[3]\n",
    "            str_data = wav_data.readframes(nframes)\n",
    "            array_data = np.fromstring(str_data, dtype=np.short)\n",
    "            a = array_data.shape[0]\n",
    "            fix_data = np.pad(array_data, (0, 4000000-a), \"edge\")  \n",
    "\n",
    "            f = wave.open(sine,\"wb\")\n",
    "            f.setnchannels(2)\n",
    "            f.setsampwidth(2)\n",
    "            f.setframerate(framerate)\n",
    "\n",
    "            f.writeframes(fix_data.tostring())\n",
    "            f.close()"
   ]
  },
  {
   "cell_type": "code",
   "execution_count": null,
   "metadata": {},
   "outputs": [],
   "source": []
  }
 ],
 "metadata": {
  "kernelspec": {
   "display_name": "Python 3",
   "language": "python",
   "name": "python3"
  },
  "language_info": {
   "codemirror_mode": {
    "name": "ipython",
    "version": 3
   },
   "file_extension": ".py",
   "mimetype": "text/x-python",
   "name": "python",
   "nbconvert_exporter": "python",
   "pygments_lexer": "ipython3",
   "version": "3.7.6"
  }
 },
 "nbformat": 4,
 "nbformat_minor": 2
}
